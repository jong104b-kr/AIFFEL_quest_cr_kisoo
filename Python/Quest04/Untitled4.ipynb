{
  "nbformat": 4,
  "nbformat_minor": 0,
  "metadata": {
    "colab": {
      "provenance": [],
      "include_colab_link": true
    },
    "kernelspec": {
      "name": "python3",
      "display_name": "Python 3"
    },
    "language_info": {
      "name": "python"
    }
  },
  "cells": [
    {
      "cell_type": "markdown",
      "metadata": {
        "id": "view-in-github",
        "colab_type": "text"
      },
      "source": [
        "<a href=\"https://colab.research.google.com/github/richpapakr/AIFFEL_quest_cr/blob/master/Python/Quest04/Untitled4.ipynb\" target=\"_parent\"><img src=\"https://colab.research.google.com/assets/colab-badge.svg\" alt=\"Open In Colab\"/></a>"
      ]
    },
    {
      "cell_type": "code",
      "execution_count": null,
      "metadata": {
        "id": "G_IAnjIxjrkw",
        "colab": {
          "base_uri": "https://localhost:8080/",
          "height": 224
        },
        "outputId": "b4547cbf-18fc-4733-e10d-a272f89027f5"
      },
      "outputs": [
        {
          "output_type": "error",
          "ename": "NameError",
          "evalue": "name 'calcurator' is not defined",
          "traceback": [
            "\u001b[0;31m---------------------------------------------------------------------------\u001b[0m",
            "\u001b[0;31mNameError\u001b[0m                                 Traceback (most recent call last)",
            "\u001b[0;32m<ipython-input-1-02d8f08273a0>\u001b[0m in \u001b[0;36m<cell line: 27>\u001b[0;34m()\u001b[0m\n\u001b[1;32m     25\u001b[0m   \u001b[0;32mexcept\u001b[0m \u001b[0mValueError\u001b[0m\u001b[0;34m:\u001b[0m\u001b[0;34m\u001b[0m\u001b[0;34m\u001b[0m\u001b[0m\n\u001b[1;32m     26\u001b[0m     \u001b[0mprint\u001b[0m\u001b[0;34m(\u001b[0m\u001b[0;34m'잘못된 입력입니다. 숫자를 입력하세요.'\u001b[0m\u001b[0;34m)\u001b[0m\u001b[0;34m\u001b[0m\u001b[0;34m\u001b[0m\u001b[0m\n\u001b[0;32m---> 27\u001b[0;31m \u001b[0mcalcurator\u001b[0m\u001b[0;34m(\u001b[0m\u001b[0;34m)\u001b[0m\u001b[0;34m\u001b[0m\u001b[0;34m\u001b[0m\u001b[0m\n\u001b[0m\u001b[1;32m     28\u001b[0m \u001b[0;34m\u001b[0m\u001b[0m\n\u001b[1;32m     29\u001b[0m \u001b[0;34m\u001b[0m\u001b[0m\n",
            "\u001b[0;31mNameError\u001b[0m: name 'calcurator' is not defined"
          ]
        }
      ],
      "source": [
        "# [기수1] 간단한 계산기 프로그램 만들기\n",
        "# 사용자로부터 두 개의 정수와 연산자를 입력받아 계산 결과 출력.\n",
        "\n",
        "def calculator():\n",
        "  print(\"간단한 계산기 프로그램입니다.\")\n",
        "\n",
        "  try:\n",
        "    num1 = int(input('첫 번째 정수를 입력하세요')) # 첫 번째 정수 입력\n",
        "    num2 = int(input('두 번째 정수를 입력하세요')) # 두 번째 정수 입력\n",
        "    operator = input('연산자를 입력하세요 (+,-,*,/,**):') # 연산자 입력\n",
        "    if operator == '+':\n",
        "      result = num1 + num2\n",
        "    elif operator == '-':\n",
        "      result = num1 - num2\n",
        "    elif operator == '*':\n",
        "      result = num1 * num2\n",
        "    elif operator == '/': # 0으로 나누는 경우 예외 처리\n",
        "         if num2 == 0:\n",
        "          print('0으로 나눌 수 없습니다.')\n",
        "          return\n",
        "         result = num1 / num2\n",
        "    elif operator =='**':\n",
        "      result = num1 ** num2\n",
        "    else:\n",
        "      print(\"잘못된 연산자입니다. 다시 시도해주세요.\")\n",
        "      return\n",
        "    print(f'결과: {num1}{operator}{num2} =  {result}')\n",
        "  except ValueError:\n",
        "    print('잘못된 입력입니다. 숫자를 입력하세요.')\n",
        "calcurator()                                            # 키워드 스펠링 입력 오류\n",
        "\n"
      ]
    },
    {
      "cell_type": "code",
      "execution_count": null,
      "metadata": {
        "colab": {
          "base_uri": "https://localhost:8080/"
        },
        "outputId": "0dc38373-99d3-475f-bbc9-ca970f63e313",
        "id": "z39Z114Isv0Y"
      },
      "outputs": [
        {
          "output_type": "stream",
          "name": "stdout",
          "text": [
            "간단한 계산기 프로그램입니다.\n",
            "첫 번째 정수를 입력하세요10\n",
            "두 번째 정수를 입력하세요5\n",
            "연산자를 입력하세요 (+,-,*,/,**):*\n",
            "결과: 10*5 =  50\n"
          ]
        }
      ],
      "source": [
        "# [기수2] 파이썬을 사용하여 간단한 계산기 프로그램 만들기\n",
        "# 사용자로부터 두개의 정수와 연산자(+,-,*,/,**)을 입력받아 계산 결과를 출력하는 프로그램\n",
        "\n",
        "def calculator():\n",
        "  print(\"간단한 계산기 프로그램입니다.\")\n",
        "\n",
        "  try:\n",
        "    num1 = int(input('첫 번째 정수를 입력하세요')) # 첫 번째 정수 입력\n",
        "    num2 = int(input('두 번째 정수를 입력하세요')) # 두 번째 정수 입력\n",
        "    operator = input('연산자를 입력하세요 (+,-,*,/,**):') # 연산자 입력\n",
        "    if operator == '+':\n",
        "      result = num1 + num2\n",
        "    elif operator == '-':\n",
        "      result = num1 - num2\n",
        "    elif operator == '*':\n",
        "      result = num1 * num2\n",
        "    elif operator == '/': # 0으로 나누는 경우 예외 처리\n",
        "         if num2 == 0:\n",
        "          print('0으로 나눌 수 없습니다.')\n",
        "          return\n",
        "         result = num1 / num2\n",
        "    elif operator =='**':\n",
        "      result = num1 ** num2\n",
        "    else:\n",
        "      print(\"잘못된 연산자입니다. 다시 시도해주세요.\")\n",
        "      return\n",
        "    print(f'결과: {num1}{operator}{num2} =  {result}')\n",
        "  except ValueError:\n",
        "    print('잘못된 입력입니다. 숫자를 입력하세요.')\n",
        "calculator()\n",
        "\n"
      ]
    },
    {
      "cell_type": "code",
      "execution_count": null,
      "metadata": {
        "colab": {
          "base_uri": "https://localhost:8080/"
        },
        "outputId": "0fdfd163-1d18-4e53-94b1-43244e3f9fbb",
        "id": "baONLQ70xgVq"
      },
      "outputs": [
        {
          "output_type": "stream",
          "name": "stdout",
          "text": [
            "간단한 계산기 프로그램입니다.\n",
            "첫 번째 정수를 입력하세요10\n",
            "두 번째 정수를 입력하세요0\n",
            "연산자를 입력하세요 (+,-,*,/,**):/\n",
            "0으로 나눌 수 없습니다.\n"
          ]
        }
      ],
      "source": [
        "# [기수3] 파이썬을 사용하여 간단한 계산기 프로그램 만들기\n",
        "# 사용자로부터 두개의 정수와 연산자(+,-,*,/,**)을 입력받아 계산 결과를 출력하는 프로그램\n",
        "\n",
        "def calculator():\n",
        "  print(\"간단한 계산기 프로그램입니다.\")\n",
        "\n",
        "  try:\n",
        "    num1 = int(input('첫 번째 정수를 입력하세요')) # 첫 번째 정수 입력\n",
        "    num2 = int(input('두 번째 정수를 입력하세요')) # 두 번째 정수 입력\n",
        "    operator = input('연산자를 입력하세요 (+,-,*,/,**):') # 연산자 입력\n",
        "    if operator == '+':\n",
        "      result = num1 + num2\n",
        "    elif operator == '-':\n",
        "      result = num1 - num2\n",
        "    elif operator == '*':\n",
        "      result = num1 * num2\n",
        "    elif operator == '/': # 0으로 나누는 경우 예외 처리\n",
        "         if num2 == 0:\n",
        "          print('0으로 나눌 수 없습니다.')\n",
        "          return\n",
        "         result = num1 / num2\n",
        "    elif operator =='**':\n",
        "      result = num1 ** num2\n",
        "    else:\n",
        "      print(\"잘못된 연산자입니다. 다시 시도해주세요.\")\n",
        "      return\n",
        "    print(f'결과: {num1}{operator}{num2} =  {result}')\n",
        "  except ValueError:\n",
        "    print('잘못된 입력입니다. 숫자를 입력하세요.')\n",
        "calculator()\n",
        "\n"
      ]
    },
    {
      "cell_type": "code",
      "execution_count": null,
      "metadata": {
        "colab": {
          "base_uri": "https://localhost:8080/"
        },
        "outputId": "b1923045-1b7f-4a76-a7e6-7ec70d7be8ef",
        "id": "wmyhNLKasK10"
      },
      "outputs": [
        {
          "output_type": "stream",
          "name": "stdout",
          "text": [
            "간단한 계산기 프로그램입니다.\n",
            "첫 번째 정수를 입력하세요: 10\n",
            "두 번째 정수를 입력하세요: 0\n",
            "연산자를 입력하세요 (+, -, *, /, **): /\n",
            "오류: 0으로 나눌 수 없습니다.\n",
            "계속 계산하시겠습니까? (y/n): y\n",
            "첫 번째 정수를 입력하세요: 2\n",
            "두 번째 정수를 입력하세요: 3\n",
            "연산자를 입력하세요 (+, -, *, /, **): **\n",
            "결과: 2 ** 3 = 8.0\n",
            "계속 계산하시겠습니까? (y/n): y\n",
            "첫 번째 정수를 입력하세요: 3\n",
            "두 번째 정수를 입력하세요: 7\n",
            "연산자를 입력하세요 (+, -, *, /, **): -\n",
            "결과: 3 - 7 = -4\n",
            "계속 계산하시겠습니까? (y/n): n\n",
            "계산기를 종료합니다.\n"
          ]
        }
      ],
      "source": [
        "# [기수4]파이썬을 사용하여 간단한 계산기 프로그램 만들기\n",
        "# 사용자로부터 두개의 정수와 연산자(+,-,*,/,**을 입력받아 계산 결과를 출력하는 프로그램\n",
        "\n",
        "import math\n",
        "\n",
        "def get_integer(prompt):\n",
        "    \"\"\"사용자로부터 정수를 입력받는 함수. 정수가 입력될 때까지 반복.\"\"\"\n",
        "    while True:\n",
        "        try:\n",
        "            return int(input(prompt))\n",
        "        except ValueError:\n",
        "            print(\"잘못된 입력입니다. 정수를 입력해주세요.\")\n",
        "\n",
        "def calculator():\n",
        "    \"\"\"간단한 계산기 프로그램.\"\"\"\n",
        "    print(\"간단한 계산기 프로그램입니다.\")\n",
        "\n",
        "    while True:\n",
        "        # 첫 번째 정수 입력\n",
        "        num1 = get_integer(\"첫 번째 정수를 입력하세요: \")\n",
        "\n",
        "        # 두 번째 정수 입력\n",
        "        num2 = get_integer(\"두 번째 정수를 입력하세요: \")\n",
        "\n",
        "        # 연산자 입력\n",
        "        operator = input(\"연산자를 입력하세요 (+, -, *, /, **): \")\n",
        "\n",
        "        try:\n",
        "            # 연산 수행\n",
        "            if operator == '+':\n",
        "                result = num1 + num2\n",
        "            elif operator == '-':\n",
        "                result = num1 - num2\n",
        "            elif operator == '*':\n",
        "                result = num1 * num2\n",
        "            elif operator == '/':\n",
        "                if num2 == 0:\n",
        "                    raise ZeroDivisionError(\"0으로 나눌 수 없습니다.\")\n",
        "                result = num1 / num2\n",
        "            elif operator == '**':\n",
        "                result = math.pow(num1, num2)\n",
        "            else:\n",
        "                print(\"지원하지 않는 연산자입니다. 다시 입력해주세요.\")\n",
        "                continue\n",
        "\n",
        "            # 결과 출력\n",
        "            print(f\"결과: {num1} {operator} {num2} = {result}\")\n",
        "\n",
        "        except ZeroDivisionError as e:\n",
        "            print(f\"오류: {e}\")\n",
        "\n",
        "        # 계속 계산할 것인지 확인\n",
        "        cont = input(\"계속 계산하시겠습니까? (y/n): \").lower()\n",
        "        if cont != 'y':\n",
        "            print(\"계산기를 종료합니다.\")\n",
        "            break\n",
        "\n",
        "# 프로그램 실행\n",
        "calculator()\n",
        "\n",
        "# 주요 변경점:\n",
        "# 정수 입력 반복 처리:\n",
        "# - get_integer 함수를 통해 정수가 입력될 때까지 반복해서 입력받습니다.\n",
        "# - 잘못된 입력 시 ValueError를 처리하여 오류 메시지를 출력합니다.\n",
        "#   나눗셈 예외 처리:\n",
        "# - ZeroDivisionError를 명시적으로 처리하여 두 번째 정수가 0인 경우 적절한 메시지를 출력합니다.\n",
        "#   제곱 연산:\n",
        "# math.pow를 사용하여 제곱 연산(**)을 수행합니다.\n",
        "# 계속 계산 여부:\n",
        "\n",
        "# 사용자가 계속 계산할 것인지 묻고, y 이외의 입력 시 프로그램을 종료합니다."
      ]
    },
    {
      "cell_type": "code",
      "source": [
        "def calculator():\n",
        "  print(\"간단한 계산기 프로그램입니다.\")\n",
        "  while True:\n",
        "\n",
        "   try:\n",
        "     num1 = int(input('첫 번째 정수를 입력하세요')) # 첫 번째 정수 입력\n",
        "     num2 = int(input('두 번째 정수를 입력하세요')) # 두 번째 정수 입력\n",
        "     operator = input('연산자를 입력하세요 (+,-,*,/,**):') # 연산자 입력\n",
        "     if operator == '+':\n",
        "       result = num1 + num2\n",
        "     elif operator == '-':\n",
        "       result = num1 - num2\n",
        "     elif operator == '*':\n",
        "       result = num1 * num2\n",
        "     elif operator == '/': # 0으로 나누는 경우 예외 처리\n",
        "          if num2 == 0:\n",
        "           print('0으로 나눌 수 없습니다.')\n",
        "           return\n",
        "          result = num1 / num2\n",
        "     elif operator =='**':\n",
        "       result = num1 ** num2\n",
        "     else:\n",
        "       print(\"잘못된 연산자입니다. 다시 시도해주세요.\")\n",
        "       return\n",
        "     print(f'결과: {num1}{operator}{num2} =  {result}')\n",
        "   except ValueError:\n",
        "     print('잘못된 입력입니다. 숫자를 입력하세요.')\n",
        "calculator()"
      ],
      "metadata": {
        "id": "mZTjwM5L29hh"
      },
      "execution_count": null,
      "outputs": []
    },
    {
      "cell_type": "code",
      "source": [],
      "metadata": {
        "id": "b3TvU6lfsIQo"
      },
      "execution_count": null,
      "outputs": []
    },
    {
      "cell_type": "code",
      "source": [
        "#김선\n",
        "# 1. 두 개의 정수와 연산자 입력 받기\n",
        "# 2. 정수가 아닌 경우 ValueError : \"잘못된 입력입니다. 정수를 입력해주세요.\"\n",
        "# 3. 연산자가 나눗셈인 경우:두 번째 정수가 0인 경우:ZeroDivisionError\n",
        "# 4. 6개 연산자 이외의 입력값일 경우:오류 메시지\n",
        "# 5. 계속 계산할지\n",
        "\n",
        "a,b=map(int,input().split())\n",
        "\n",
        "\n"
      ],
      "metadata": {
        "id": "gQ97DxLnlNcb"
      },
      "execution_count": null,
      "outputs": []
    },
    {
      "cell_type": "code",
      "source": [
        "# ValueError 처리 잘못된 시도 1\n",
        "\n",
        "a,b=map(int,input().split())\n",
        "if type(a) and type(b) is not int:                  # type(a) and type(b) is not int 조건 오류\n",
        "   print(\"잘못된 입력입니다. 정수를 입력해주세요.\")"
      ],
      "metadata": {
        "id": "Uqeq2VU2m1-7",
        "colab": {
          "base_uri": "https://localhost:8080/",
          "height": 243
        },
        "outputId": "8a5fa959-b07b-462a-cb07-779b140b0da2"
      },
      "execution_count": null,
      "outputs": [
        {
          "name": "stdout",
          "output_type": "stream",
          "text": [
            "3.5\n"
          ]
        },
        {
          "output_type": "error",
          "ename": "ValueError",
          "evalue": "invalid literal for int() with base 10: '3.5'",
          "traceback": [
            "\u001b[0;31m---------------------------------------------------------------------------\u001b[0m",
            "\u001b[0;31mValueError\u001b[0m                                Traceback (most recent call last)",
            "\u001b[0;32m<ipython-input-4-66b020db4513>\u001b[0m in \u001b[0;36m<cell line: 3>\u001b[0;34m()\u001b[0m\n\u001b[1;32m      1\u001b[0m \u001b[0;31m# ValueError 처리 잘못된 시도 1\u001b[0m\u001b[0;34m\u001b[0m\u001b[0;34m\u001b[0m\u001b[0m\n\u001b[1;32m      2\u001b[0m \u001b[0;34m\u001b[0m\u001b[0m\n\u001b[0;32m----> 3\u001b[0;31m \u001b[0ma\u001b[0m\u001b[0;34m,\u001b[0m\u001b[0mb\u001b[0m\u001b[0;34m=\u001b[0m\u001b[0mmap\u001b[0m\u001b[0;34m(\u001b[0m\u001b[0mint\u001b[0m\u001b[0;34m,\u001b[0m\u001b[0minput\u001b[0m\u001b[0;34m(\u001b[0m\u001b[0;34m)\u001b[0m\u001b[0;34m.\u001b[0m\u001b[0msplit\u001b[0m\u001b[0;34m(\u001b[0m\u001b[0;34m)\u001b[0m\u001b[0;34m)\u001b[0m\u001b[0;34m\u001b[0m\u001b[0;34m\u001b[0m\u001b[0m\n\u001b[0m\u001b[1;32m      4\u001b[0m \u001b[0;32mif\u001b[0m \u001b[0mtype\u001b[0m\u001b[0;34m(\u001b[0m\u001b[0ma\u001b[0m\u001b[0;34m)\u001b[0m \u001b[0;32mand\u001b[0m \u001b[0mtype\u001b[0m\u001b[0;34m(\u001b[0m\u001b[0mb\u001b[0m\u001b[0;34m)\u001b[0m \u001b[0;32mis\u001b[0m \u001b[0;32mnot\u001b[0m \u001b[0mint\u001b[0m\u001b[0;34m:\u001b[0m\u001b[0;34m\u001b[0m\u001b[0;34m\u001b[0m\u001b[0m\n\u001b[1;32m      5\u001b[0m    \u001b[0mprint\u001b[0m\u001b[0;34m(\u001b[0m\u001b[0;34m\"잘못된 입력입니다. 정수를 입력해주세요.\"\u001b[0m\u001b[0;34m)\u001b[0m\u001b[0;34m\u001b[0m\u001b[0;34m\u001b[0m\u001b[0m\n",
            "\u001b[0;31mValueError\u001b[0m: invalid literal for int() with base 10: '3.5'"
          ]
        }
      ]
    },
    {
      "cell_type": "code",
      "source": [
        "try:\n",
        "    a, b = map(int, input(\"두 개의 정수를 입력하세요: \").split())\n",
        "    print(f\"입력된 값: a = {a}, b = {b}\")\n",
        "except ValueError:\n",
        "    print(\"잘못된 입력입니다. 정수를 입력해주세요.\")\n",
        "\n",
        " # 예외 처리 사용 : try와 except를 사용하여 입력값이 정수로 변환되지 않을 경우 ValueError를 처리하도록 수정했습니다.\n"
      ],
      "metadata": {
        "colab": {
          "base_uri": "https://localhost:8080/"
        },
        "id": "pGv7fsGeyGyN",
        "outputId": "2a9aec8b-f995-4a8f-98d5-59e6e2e629e2"
      },
      "execution_count": null,
      "outputs": [
        {
          "output_type": "stream",
          "name": "stdout",
          "text": [
            "두 개의 정수를 입력하세요: 10 ab\n",
            "잘못된 입력입니다. 정수를 입력해주세요.\n"
          ]
        }
      ]
    },
    {
      "cell_type": "code",
      "source": [
        "try:\n",
        "    a=int(input(\"첫번째 정수를 입력하세요: \"))\n",
        "    b=int(input(\"두번째 정수를 입력하세요: \"))\n",
        "except ValueError:\n",
        "    print(\"잘못된 입력입니다. 정수를 입력해주세요.\")"
      ],
      "metadata": {
        "id": "H1Pw9E9huLi2"
      },
      "execution_count": null,
      "outputs": []
    },
    {
      "cell_type": "markdown",
      "source": [
        "**회 고**\n",
        "구문 오류, 예외 처리에 대한 키워드와 코드 작성에 있어 배우게 되어 좋았고, 기존의 try- except문을 사용하여 계산기 프로그램 만들어 보면서 정수와 연산자로 계산하면서 출력해보는 좋은 시간이였다.\n"
      ],
      "metadata": {
        "id": "ac9tpQye47Bb"
      }
    },
    {
      "cell_type": "markdown",
      "source": [
        "**회고(김선)** 처음에 try 구문 말고 if 구문으로 ValueError 메시지 뜨게 하려고 이런 저런 시도를 해보느라 시간이 많이 걸렸다. 결국 try 구문을 써야되나보다."
      ],
      "metadata": {
        "id": "UxHiw0sr5tCZ"
      }
    }
  ]
}